{
 "cells": [
  {
   "cell_type": "code",
   "execution_count": 2,
   "id": "0cfa528b-0baa-46b2-893d-7c34e2aa787a",
   "metadata": {},
   "outputs": [
    {
     "name": "stdout",
     "output_type": "stream",
     "text": [
      "Iris X shape: (150, 4)\n",
      "Iris y shape: (150,)\n",
      "Features: ['sepal length (cm)', 'sepal width (cm)', 'petal length (cm)', 'petal width (cm)']\n",
      "Blobs X shape: (100, 2)\n",
      "Blobs y shape: (100,)\n",
      "Blobs features: ['feature_1', 'feature_2']\n",
      "Customer data columns: ['age', 'annual_income', 'spending_score', 'purchase_frequency']\n",
      "First 5 rows:\n",
      "          age  annual_income  spending_score  purchase_frequency\n",
      "0  38.656605   55782.387974              46                   3\n",
      "1  22.520191   62625.764517              27                   4\n",
      "2  44.005414   20856.883603              77                   6\n",
      "3  46.286777   43606.575673              97                   5\n",
      "4  11.587578   40592.546914              27                   3\n"
     ]
    }
   ],
   "source": [
    "from clusterviz import datasets\n",
    "\n",
    "# Loading the Iris dataset, which is a classic dataset in machine learning.\n",
    "# It contains 150 samples of iris flowers with 4 features each\n",
    "X, y, features = datasets.load_iris()\n",
    "print(\"Iris X shape:\", X.shape)    \n",
    "print(\"Iris y shape:\", y.shape)    \n",
    "print(\"Features:\", features)       \n",
    "\n",
    " \n",
    "# A \"blobs\" dataset is a synthetic dataset used for clustering experiments.\n",
    "# Points are generated around specified centers, forming groups (clusters).\n",
    "\n",
    "Xblob, yblob, fblob = datasets.make_blobs_dataset(n_samples=100, centers=3, n_features=2)\n",
    "print(\"Blobs X shape:\", Xblob.shape)   \n",
    "print(\"Blobs y shape:\", yblob.shape)  # Cluster labels (0,1,2)\n",
    "print(\"Blobs features:\", fblob)       \n",
    "\n",
    "# 3. Loading a synthetic customer data\n",
    "\n",
    "df = datasets.load_customer_data(n_customers=50)\n",
    "print(\"Customer data columns:\", df.columns.tolist())\n",
    "print(\"First 5 rows:\\n\", df.head())\n"
   ]
  },
  {
   "cell_type": "code",
   "execution_count": null,
   "id": "9142bdd7-3510-40c7-9372-6fcffc28225c",
   "metadata": {},
   "outputs": [],
   "source": []
  },
  {
   "cell_type": "code",
   "execution_count": null,
   "id": "50d51fb1-2ecd-41c0-bc77-291f3ec820b2",
   "metadata": {},
   "outputs": [],
   "source": []
  }
 ],
 "metadata": {
  "kernelspec": {
   "display_name": "310 XGBoost",
   "language": "python",
   "name": "py310_xgb"
  },
  "language_info": {
   "codemirror_mode": {
    "name": "ipython",
    "version": 3
   },
   "file_extension": ".py",
   "mimetype": "text/x-python",
   "name": "python",
   "nbconvert_exporter": "python",
   "pygments_lexer": "ipython3",
   "version": "3.13.5"
  }
 },
 "nbformat": 4,
 "nbformat_minor": 5
}
